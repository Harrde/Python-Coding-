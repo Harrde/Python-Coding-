{
  "nbformat": 4,
  "nbformat_minor": 0,
  "metadata": {
    "colab": {
      "name": "Untitled0.ipynb",
      "provenance": [],
      "authorship_tag": "ABX9TyNTMrBkvxW0vL3RO0hLdrwy",
      "include_colab_link": true
    },
    "kernelspec": {
      "name": "python3",
      "display_name": "Python 3"
    },
    "language_info": {
      "name": "python"
    }
  },
  "cells": [
    {
      "cell_type": "markdown",
      "metadata": {
        "id": "view-in-github",
        "colab_type": "text"
      },
      "source": [
        "<a href=\"https://colab.research.google.com/github/Harrde/Python-Coding-/blob/main/Medical%20Python%20Coding.ipynb\" target=\"_parent\"><img src=\"https://colab.research.google.com/assets/colab-badge.svg\" alt=\"Open In Colab\"/></a>"
      ]
    },
    {
      "cell_type": "code",
      "metadata": {
        "id": "d4E5ZEzFXDnr"
      },
      "source": [
        "# Import Packages "
      ],
      "execution_count": null,
      "outputs": []
    },
    {
      "cell_type": "code",
      "metadata": {
        "id": "4moEqSrdXJzp"
      },
      "source": [
        "import pandas as pd\n",
        "import numpy as np\n",
        "import re\n",
        "from collections import Counter"
      ],
      "execution_count": 70,
      "outputs": []
    },
    {
      "cell_type": "code",
      "metadata": {
        "colab": {
          "base_uri": "https://localhost:8080/"
        },
        "id": "KrdtBjHIXOKt",
        "outputId": "16b1782d-6686-4ff6-c6d0-570d3c3a4a45"
      },
      "source": [
        "df = pd.read_csv(\"/content/Medical-Equipment-Suppliers 1.csv\")"
      ],
      "execution_count": 9,
      "outputs": [
        {
          "output_type": "stream",
          "name": "stderr",
          "text": [
            "/usr/local/lib/python3.7/dist-packages/IPython/core/interactiveshell.py:2718: DtypeWarning: Columns (0) have mixed types.Specify dtype option on import or set low_memory=False.\n",
            "  interactivity=interactivity, compiler=compiler, result=result)\n"
          ]
        }
      ]
    },
    {
      "cell_type": "markdown",
      "metadata": {
        "id": "vv6vy_EiXl-c"
      },
      "source": [
        "**1. Run the dataframe_describe() function on the dataset and examine the contents.**"
      ]
    },
    {
      "cell_type": "code",
      "metadata": {
        "colab": {
          "base_uri": "https://localhost:8080/"
        },
        "id": "Ddc6FLDZXuJF",
        "outputId": "75ca4ff0-696f-4a36-ea5e-577ec5363cb0"
      },
      "source": [
        "df.info()"
      ],
      "execution_count": 4,
      "outputs": [
        {
          "output_type": "stream",
          "name": "stdout",
          "text": [
            "<class 'pandas.core.frame.DataFrame'>\n",
            "RangeIndex: 69207 entries, 0 to 69206\n",
            "Data columns (total 17 columns):\n",
            " #   Column                  Non-Null Count  Dtype  \n",
            "---  ------                  --------------  -----  \n",
            " 0   ptan                    69207 non-null  object \n",
            " 1   acceptsassignement      69207 non-null  bool   \n",
            " 2   participationbegindate  69207 non-null  object \n",
            " 3   businessname            69207 non-null  object \n",
            " 4   practicename            69207 non-null  object \n",
            " 5   practiceaddress1        69207 non-null  object \n",
            " 6   practiceaddress2        14121 non-null  object \n",
            " 7   practicecity            69207 non-null  object \n",
            " 8   practicestate           69207 non-null  object \n",
            " 9   practicezip9code        69207 non-null  int64  \n",
            " 10  telephonenumber         69207 non-null  int64  \n",
            " 11  specialitieslist        68487 non-null  object \n",
            " 12  providertypelist        8031 non-null   object \n",
            " 13  supplieslist            69132 non-null  object \n",
            " 14  latitude                69206 non-null  float64\n",
            " 15  longitude               69206 non-null  float64\n",
            " 16  is_contracted_for_cba   69207 non-null  bool   \n",
            "dtypes: bool(2), float64(2), int64(2), object(11)\n",
            "memory usage: 8.1+ MB\n"
          ]
        }
      ]
    },
    {
      "cell_type": "markdown",
      "metadata": {
        "id": "jyBoRlaCXz_9"
      },
      "source": [
        "**2. Use the head(), tail() and sample() methods to examine the first 3 practices, the last 3 practices and 3 random practives.  Examine the contents.  Write a description of each column, using your own words.**"
      ]
    },
    {
      "cell_type": "code",
      "metadata": {
        "colab": {
          "base_uri": "https://localhost:8080/",
          "height": 320
        },
        "id": "tpwlmfsjYEz_",
        "outputId": "fbf5d79f-a39b-48e2-e183-ad4938860b42"
      },
      "source": [
        "df.head(3)"
      ],
      "execution_count": 10,
      "outputs": [
        {
          "output_type": "execute_result",
          "data": {
            "text/html": [
              "<div>\n",
              "<style scoped>\n",
              "    .dataframe tbody tr th:only-of-type {\n",
              "        vertical-align: middle;\n",
              "    }\n",
              "\n",
              "    .dataframe tbody tr th {\n",
              "        vertical-align: top;\n",
              "    }\n",
              "\n",
              "    .dataframe thead th {\n",
              "        text-align: right;\n",
              "    }\n",
              "</style>\n",
              "<table border=\"1\" class=\"dataframe\">\n",
              "  <thead>\n",
              "    <tr style=\"text-align: right;\">\n",
              "      <th></th>\n",
              "      <th>ptan</th>\n",
              "      <th>acceptsassignement</th>\n",
              "      <th>participationbegindate</th>\n",
              "      <th>businessname</th>\n",
              "      <th>practicename</th>\n",
              "      <th>practiceaddress1</th>\n",
              "      <th>practiceaddress2</th>\n",
              "      <th>practicecity</th>\n",
              "      <th>practicestate</th>\n",
              "      <th>practicezip9code</th>\n",
              "      <th>telephonenumber</th>\n",
              "      <th>specialitieslist</th>\n",
              "      <th>providertypelist</th>\n",
              "      <th>supplieslist</th>\n",
              "      <th>latitude</th>\n",
              "      <th>longitude</th>\n",
              "      <th>is_contracted_for_cba</th>\n",
              "    </tr>\n",
              "  </thead>\n",
              "  <tbody>\n",
              "    <tr>\n",
              "      <th>0</th>\n",
              "      <td>339460305</td>\n",
              "      <td>False</td>\n",
              "      <td>2001-01-01</td>\n",
              "      <td>HANGER PROSTHETICS &amp; ORTHOTICS EAST INC</td>\n",
              "      <td>HANGER CLINIC</td>\n",
              "      <td>1 CANAL SQUARE PLZ STE 140</td>\n",
              "      <td>NaN</td>\n",
              "      <td>AKRON</td>\n",
              "      <td>OH</td>\n",
              "      <td>443081026</td>\n",
              "      <td>3303749544</td>\n",
              "      <td>Orthotic Personnel|MSC With Orthotic-Prostheti...</td>\n",
              "      <td>NaN</td>\n",
              "      <td>Orthoses: Prefabricated (Non-Custom Fabricated...</td>\n",
              "      <td>41.08084</td>\n",
              "      <td>-81.52278</td>\n",
              "      <td>True</td>\n",
              "    </tr>\n",
              "    <tr>\n",
              "      <th>1</th>\n",
              "      <td>414330217</td>\n",
              "      <td>False</td>\n",
              "      <td>1998-01-01</td>\n",
              "      <td>HANGER PROSTHETICS &amp; ORTHOTICS INC</td>\n",
              "      <td>HANGER CLINIC</td>\n",
              "      <td>9263 MEDICAL PLAZA DRIVE</td>\n",
              "      <td>SUITE C</td>\n",
              "      <td>NORTH CHARLESTON</td>\n",
              "      <td>SC</td>\n",
              "      <td>294067112</td>\n",
              "      <td>8438631734</td>\n",
              "      <td>MSC With Orthotic-Prosthetic|Prosthetic Personnel</td>\n",
              "      <td>NaN</td>\n",
              "      <td>Orthoses: Prefabricated (Non-Custom Fabricated...</td>\n",
              "      <td>32.97531</td>\n",
              "      <td>-80.07157</td>\n",
              "      <td>True</td>\n",
              "    </tr>\n",
              "    <tr>\n",
              "      <th>2</th>\n",
              "      <td>3987660006</td>\n",
              "      <td>False</td>\n",
              "      <td>2001-02-26</td>\n",
              "      <td>AEROFLOW INC.</td>\n",
              "      <td>AEROFLOW INC</td>\n",
              "      <td>5 WORTH CIR A</td>\n",
              "      <td>NaN</td>\n",
              "      <td>JOHNSON CITY</td>\n",
              "      <td>TN</td>\n",
              "      <td>376014338</td>\n",
              "      <td>8883451780</td>\n",
              "      <td>Medical Supply Company Other|MSC With Respirat...</td>\n",
              "      <td>NaN</td>\n",
              "      <td>Urological Supplies|Walkers|Enteral Equipment ...</td>\n",
              "      <td>36.35137</td>\n",
              "      <td>-82.36671</td>\n",
              "      <td>True</td>\n",
              "    </tr>\n",
              "  </tbody>\n",
              "</table>\n",
              "</div>"
            ],
            "text/plain": [
              "         ptan  acceptsassignement  ... longitude is_contracted_for_cba\n",
              "0   339460305               False  ... -81.52278                  True\n",
              "1   414330217               False  ... -80.07157                  True\n",
              "2  3987660006               False  ... -82.36671                  True\n",
              "\n",
              "[3 rows x 17 columns]"
            ]
          },
          "metadata": {},
          "execution_count": 10
        }
      ]
    },
    {
      "cell_type": "code",
      "metadata": {
        "colab": {
          "base_uri": "https://localhost:8080/",
          "height": 268
        },
        "id": "76HSKFLFYJ-r",
        "outputId": "9de4780c-9103-4303-9712-a676dc03be02"
      },
      "source": [
        "df.tail(3)"
      ],
      "execution_count": 11,
      "outputs": [
        {
          "output_type": "execute_result",
          "data": {
            "text/html": [
              "<div>\n",
              "<style scoped>\n",
              "    .dataframe tbody tr th:only-of-type {\n",
              "        vertical-align: middle;\n",
              "    }\n",
              "\n",
              "    .dataframe tbody tr th {\n",
              "        vertical-align: top;\n",
              "    }\n",
              "\n",
              "    .dataframe thead th {\n",
              "        text-align: right;\n",
              "    }\n",
              "</style>\n",
              "<table border=\"1\" class=\"dataframe\">\n",
              "  <thead>\n",
              "    <tr style=\"text-align: right;\">\n",
              "      <th></th>\n",
              "      <th>ptan</th>\n",
              "      <th>acceptsassignement</th>\n",
              "      <th>participationbegindate</th>\n",
              "      <th>businessname</th>\n",
              "      <th>practicename</th>\n",
              "      <th>practiceaddress1</th>\n",
              "      <th>practiceaddress2</th>\n",
              "      <th>practicecity</th>\n",
              "      <th>practicestate</th>\n",
              "      <th>practicezip9code</th>\n",
              "      <th>telephonenumber</th>\n",
              "      <th>specialitieslist</th>\n",
              "      <th>providertypelist</th>\n",
              "      <th>supplieslist</th>\n",
              "      <th>latitude</th>\n",
              "      <th>longitude</th>\n",
              "      <th>is_contracted_for_cba</th>\n",
              "    </tr>\n",
              "  </thead>\n",
              "  <tbody>\n",
              "    <tr>\n",
              "      <th>69204</th>\n",
              "      <td>536160091</td>\n",
              "      <td>False</td>\n",
              "      <td>2016-01-01</td>\n",
              "      <td>THE TAMARKIN COMPANY</td>\n",
              "      <td>GIANT EAGLE PHARMACY #6531</td>\n",
              "      <td>4001 BRITTON PKWY</td>\n",
              "      <td>NaN</td>\n",
              "      <td>HILLIARD</td>\n",
              "      <td>OH</td>\n",
              "      <td>430261966</td>\n",
              "      <td>6149218260</td>\n",
              "      <td>Pharmacy</td>\n",
              "      <td>NaN</td>\n",
              "      <td>Oral Anticancer Drugs|Blood Glucose Monitors/S...</td>\n",
              "      <td>40.03378</td>\n",
              "      <td>-83.13497</td>\n",
              "      <td>False</td>\n",
              "    </tr>\n",
              "    <tr>\n",
              "      <th>69205</th>\n",
              "      <td>7562620001</td>\n",
              "      <td>False</td>\n",
              "      <td>2016-08-01</td>\n",
              "      <td>UNION SCRIPTS LLC</td>\n",
              "      <td>IIANA'S PHARMACY</td>\n",
              "      <td>180-30 UNION TPKE</td>\n",
              "      <td>NaN</td>\n",
              "      <td>FRESH MEADOWS</td>\n",
              "      <td>NY</td>\n",
              "      <td>11366</td>\n",
              "      <td>7189699500</td>\n",
              "      <td>Pharmacy</td>\n",
              "      <td>NaN</td>\n",
              "      <td>Epoetin|Infusion Drugs|Oral Anticancer Drugs|I...</td>\n",
              "      <td>40.72680</td>\n",
              "      <td>-73.78759</td>\n",
              "      <td>False</td>\n",
              "    </tr>\n",
              "    <tr>\n",
              "      <th>69206</th>\n",
              "      <td>7836830001</td>\n",
              "      <td>True</td>\n",
              "      <td>2020-02-05</td>\n",
              "      <td>AUSTIN WELLNESS RX INC</td>\n",
              "      <td>RELIABLE PHARMACY</td>\n",
              "      <td>10710A 71ST RD</td>\n",
              "      <td>NaN</td>\n",
              "      <td>FOREST HILLS</td>\n",
              "      <td>NY</td>\n",
              "      <td>113754719</td>\n",
              "      <td>7188801514</td>\n",
              "      <td>Pharmacy</td>\n",
              "      <td>NaN</td>\n",
              "      <td>Epoetin|Immunosuppressive Drugs|Infusion Drugs...</td>\n",
              "      <td>40.72129</td>\n",
              "      <td>-73.84208</td>\n",
              "      <td>False</td>\n",
              "    </tr>\n",
              "  </tbody>\n",
              "</table>\n",
              "</div>"
            ],
            "text/plain": [
              "             ptan  acceptsassignement  ... longitude is_contracted_for_cba\n",
              "69204   536160091               False  ... -83.13497                 False\n",
              "69205  7562620001               False  ... -73.78759                 False\n",
              "69206  7836830001                True  ... -73.84208                 False\n",
              "\n",
              "[3 rows x 17 columns]"
            ]
          },
          "metadata": {},
          "execution_count": 11
        }
      ]
    },
    {
      "cell_type": "code",
      "metadata": {
        "colab": {
          "base_uri": "https://localhost:8080/",
          "height": 268
        },
        "id": "GaGrNOWIYODW",
        "outputId": "5852d9e5-a868-45e3-8f31-6dc5f15b9088"
      },
      "source": [
        "df.sample(3)"
      ],
      "execution_count": 44,
      "outputs": [
        {
          "output_type": "execute_result",
          "data": {
            "text/html": [
              "<div>\n",
              "<style scoped>\n",
              "    .dataframe tbody tr th:only-of-type {\n",
              "        vertical-align: middle;\n",
              "    }\n",
              "\n",
              "    .dataframe tbody tr th {\n",
              "        vertical-align: top;\n",
              "    }\n",
              "\n",
              "    .dataframe thead th {\n",
              "        text-align: right;\n",
              "    }\n",
              "</style>\n",
              "<table border=\"1\" class=\"dataframe\">\n",
              "  <thead>\n",
              "    <tr style=\"text-align: right;\">\n",
              "      <th></th>\n",
              "      <th>ptan</th>\n",
              "      <th>acceptsassignement</th>\n",
              "      <th>participationbegindate</th>\n",
              "      <th>businessname</th>\n",
              "      <th>practicename</th>\n",
              "      <th>practiceaddress1</th>\n",
              "      <th>practiceaddress2</th>\n",
              "      <th>practicecity</th>\n",
              "      <th>practicestate</th>\n",
              "      <th>practicezip9code</th>\n",
              "      <th>telephonenumber</th>\n",
              "      <th>specialitieslist</th>\n",
              "      <th>providertypelist</th>\n",
              "      <th>supplieslist</th>\n",
              "      <th>latitude</th>\n",
              "      <th>longitude</th>\n",
              "      <th>is_contracted_for_cba</th>\n",
              "      <th>SupplyCount</th>\n",
              "    </tr>\n",
              "  </thead>\n",
              "  <tbody>\n",
              "    <tr>\n",
              "      <th>67785</th>\n",
              "      <td>282937703</td>\n",
              "      <td>False</td>\n",
              "      <td>2020-03-01</td>\n",
              "      <td>WALGREEN CO</td>\n",
              "      <td>DUANE READE #14470</td>\n",
              "      <td>1111 3RD AVE</td>\n",
              "      <td>NaN</td>\n",
              "      <td>NEW YORK</td>\n",
              "      <td>NY</td>\n",
              "      <td>100656702</td>\n",
              "      <td>2128380195</td>\n",
              "      <td>Pharmacy</td>\n",
              "      <td>NaN</td>\n",
              "      <td>Immunosuppressive Drugs|Nebulizer Drugs|Oral A...</td>\n",
              "      <td>40.76560</td>\n",
              "      <td>-73.96349</td>\n",
              "      <td>False</td>\n",
              "      <td>7</td>\n",
              "    </tr>\n",
              "    <tr>\n",
              "      <th>13650</th>\n",
              "      <td>279613314</td>\n",
              "      <td>False</td>\n",
              "      <td>2019-01-01</td>\n",
              "      <td>WALMART INC</td>\n",
              "      <td>WALMART PHARMACY 10 4412</td>\n",
              "      <td>101 BERNHARDT RD</td>\n",
              "      <td>NaN</td>\n",
              "      <td>LAUREL</td>\n",
              "      <td>MT</td>\n",
              "      <td>590448702</td>\n",
              "      <td>4066281762</td>\n",
              "      <td>Pharmacy|Optician</td>\n",
              "      <td>NaN</td>\n",
              "      <td>Epoetin|Immunosuppressive Drugs|Oral Anticance...</td>\n",
              "      <td>45.66727</td>\n",
              "      <td>-108.76129</td>\n",
              "      <td>False</td>\n",
              "      <td>11</td>\n",
              "    </tr>\n",
              "    <tr>\n",
              "      <th>50958</th>\n",
              "      <td>0483390021</td>\n",
              "      <td>False</td>\n",
              "      <td>2001-01-01</td>\n",
              "      <td>ALBERTSONS LLC</td>\n",
              "      <td>SAV-ON PHARMACY #0218</td>\n",
              "      <td>105 SOUTHFIELD RD</td>\n",
              "      <td>NaN</td>\n",
              "      <td>SHREVEPORT</td>\n",
              "      <td>LA</td>\n",
              "      <td>711053702</td>\n",
              "      <td>3188612431</td>\n",
              "      <td>Pharmacy|Grocery Store</td>\n",
              "      <td>NaN</td>\n",
              "      <td>Immunosuppressive Drugs|Nebulizer Drugs|Oral A...</td>\n",
              "      <td>32.45655</td>\n",
              "      <td>-93.70916</td>\n",
              "      <td>False</td>\n",
              "      <td>12</td>\n",
              "    </tr>\n",
              "  </tbody>\n",
              "</table>\n",
              "</div>"
            ],
            "text/plain": [
              "             ptan  acceptsassignement  ... is_contracted_for_cba SupplyCount\n",
              "67785   282937703               False  ...                 False           7\n",
              "13650   279613314               False  ...                 False          11\n",
              "50958  0483390021               False  ...                 False          12\n",
              "\n",
              "[3 rows x 18 columns]"
            ]
          },
          "metadata": {},
          "execution_count": 44
        }
      ]
    },
    {
      "cell_type": "markdown",
      "metadata": {
        "id": "6cCmXSHIYTOK"
      },
      "source": [
        "*   ptan - This seems to be an unqiue identifyer which is the medicare # given to providers who enrolled to recieve medicare.\n",
        "*   acceptassignment - This attribute identified is the provider accepted the enrollment or not.\n",
        "*   participationbeginindate - Date of when the business transaction started\n",
        "*   businessname - Name of business \n",
        "*   practicename - Name of practice \n",
        "*   practiceaddress1 - This attribute is the address / location of the practice\n",
        "*   practiceaddress2 -This attribute identifies if the practice has another running location\n",
        "*   practicecity - city of practice\n",
        "*   practicestate - state of practice\n",
        "*   practicezip9code - zip code of practice \n",
        "*   telephonenumber - number of practice \n",
        "*   specialitieslist - This attribute shows what the practice specilies in.\n",
        "*   providertypelist - This attribute identifies if it's a provider or not.\n",
        "*   supplieslist - Specifies the type of supplies the practice offers.\n",
        "*   latitude - the distance of the practice north or south of the earths equator\n",
        "*   longtitude - the distance of the practice east or west of the standard meridian of a celestial object\n",
        "*   is_contracted_for_cba - this attribte identifies if theyre contracted for cba \n",
        "\n",
        "\n",
        "\n",
        "\n",
        "\n",
        "\n",
        "\n",
        "\n",
        "\n",
        "\n",
        "\n",
        "\n",
        "\n",
        "\n",
        "\n",
        "\n",
        "\n",
        "\n",
        "\n",
        "\n"
      ]
    },
    {
      "cell_type": "markdown",
      "metadata": {
        "id": "WbaV-f0EYdmF"
      },
      "source": [
        "**3. Filter the dataste to all practices in Brooklyn, NY.  How many practices are there?**"
      ]
    },
    {
      "cell_type": "code",
      "metadata": {
        "id": "zVVudnI9YoIc"
      },
      "source": [
        "PracticesBrooklynNY = df.query('practicecity == \"BROOKLYN\" & practicestate == \"NY\"')"
      ],
      "execution_count": 45,
      "outputs": []
    },
    {
      "cell_type": "code",
      "metadata": {
        "colab": {
          "base_uri": "https://localhost:8080/"
        },
        "id": "IawhAWOzaeAZ",
        "outputId": "ad617f43-2962-4d8a-c4fe-4842c41c814b"
      },
      "source": [
        "print(len(PracticesBrooklynNY),'practices in Brooklyn, NY')"
      ],
      "execution_count": 46,
      "outputs": [
        {
          "output_type": "stream",
          "name": "stdout",
          "text": [
            "854 practices in Brooklyn, NY\n"
          ]
        }
      ]
    },
    {
      "cell_type": "markdown",
      "metadata": {
        "id": "8kekTtq_akwC"
      },
      "source": [
        "**4. Find the top 10 values for the businessname column by frequency.  Display the columns and the coresponding frequencies in descending order.**"
      ]
    },
    {
      "cell_type": "code",
      "metadata": {
        "colab": {
          "base_uri": "https://localhost:8080/"
        },
        "id": "m-ZwCd2Gawly",
        "outputId": "f60b27c5-b2d9-40b4-b3ad-0988bed81c57"
      },
      "source": [
        "df['businessname'].value_counts()[:10].sort_values(ascending=True)"
      ],
      "execution_count": 51,
      "outputs": [
        {
          "output_type": "execute_result",
          "data": {
            "text/plain": [
              "LINCARE INC.                  626\n",
              "THRIFTY PAYLESS INC           747\n",
              "GARFIELD BEACH CVS LLC        780\n",
              "HOLIDAY CVS LLC               856\n",
              "LUXOTTICA OF AMERICA INC      957\n",
              "PUBLIX SUPER MARKETS, INC    1002\n",
              "WALMART INC                  1286\n",
              "CVS PHARMACY INC             1332\n",
              "WAL-MART STORES EAST LP      2798\n",
              "WALGREEN CO                  8787\n",
              "Name: businessname, dtype: int64"
            ]
          },
          "metadata": {},
          "execution_count": 51
        }
      ]
    },
    {
      "cell_type": "markdown",
      "metadata": {
        "id": "j9E-C_mua6l6"
      },
      "source": [
        "**5. Notice that \"CSV Pharmacy Inc\" is in the top 10 businessname columns.  What stares does \"CSV Pharmacy Inc\" have practices in?**"
      ]
    },
    {
      "cell_type": "code",
      "metadata": {
        "colab": {
          "base_uri": "https://localhost:8080/"
        },
        "id": "Mjktq3eHb4pp",
        "outputId": "c7b4b1bf-4f94-45a7-e1e9-3f6d1f206aeb"
      },
      "source": [
        "CVSPharmacyInc = df.query('businessname == \"CVS PHARMACY INC\" ')['practicestate'].unique()\n",
        "print('CVS Pharmacy has practices in the following states:', CVSPharmacyInc)"
      ],
      "execution_count": 52,
      "outputs": [
        {
          "output_type": "stream",
          "name": "stdout",
          "text": [
            "CVS Pharmacy has practices in the following states: ['MA' 'TX' 'WY' 'CO' 'SD' 'NM']\n"
          ]
        }
      ]
    },
    {
      "cell_type": "markdown",
      "metadata": {
        "id": "HelifTzHjdv0"
      },
      "source": [
        "**6. Notice that \"CVS Pharmacy Inc\" is in the top 10 businessname column and has the majority of its pharmacies in Texas. How many practices does it have in these cities in the state of Texas: Arlington, Bedford and Georgetown?**"
      ]
    },
    {
      "cell_type": "code",
      "metadata": {
        "id": "pCpx6mC7jhc0"
      },
      "source": [
        "CVSPracticeCountInTX = df[(df['businessname'] == 'CVS PHARMACY INC') & (df['practicestate'] == 'TX') & (df['practicecity'].isin(['ARLINGTON','BEDFORD', 'GEORGETOWN']))]"
      ],
      "execution_count": 53,
      "outputs": []
    },
    {
      "cell_type": "code",
      "metadata": {
        "colab": {
          "base_uri": "https://localhost:8080/"
        },
        "id": "16Zh_RXtjraw",
        "outputId": "75f4aee1-4153-478f-9fdd-1695e0a43540"
      },
      "source": [
        "print('The follwoing cities in TX with count:\\n',CVSPracticeCountInTX['practicecity'].value_counts().sort_values(ascending = True))"
      ],
      "execution_count": 56,
      "outputs": [
        {
          "output_type": "stream",
          "name": "stdout",
          "text": [
            "The follwoing cities in TX with count:\n",
            " BEDFORD        3\n",
            "GEORGETOWN     3\n",
            "ARLINGTON     10\n",
            "Name: practicecity, dtype: int64\n"
          ]
        }
      ]
    },
    {
      "cell_type": "markdown",
      "metadata": {
        "id": "c8eG_K1ujuAZ"
      },
      "source": [
        "**7. Find all the practices that have \"Walgreen CO\" as the businessname in Brooklyn, NY. Compute the average longitude and latitude for the practices.**"
      ]
    },
    {
      "cell_type": "code",
      "metadata": {
        "id": "ouoN8n-ojzjj"
      },
      "source": [
        "WalCoBrooklynNY = df.query('practicecity == \"BROOKLYN\" & practicestate == \"NY\" & businessname == \"WALGREEN CO\"')\n",
        "\n",
        "#Identifying the variables columns \n",
        "cols = ['longitude', 'latitude']"
      ],
      "execution_count": 58,
      "outputs": []
    },
    {
      "cell_type": "code",
      "metadata": {
        "colab": {
          "base_uri": "https://localhost:8080/"
        },
        "id": "rm89qTmyj9NH",
        "outputId": "68fa1468-36a4-42ea-aeae-18ed29fd8385"
      },
      "source": [
        "print('Average longitude and latitude for Walgreen Co practices in Brooklyn NY:\\n', WalCoBrooklynNY[cols].mean())"
      ],
      "execution_count": 59,
      "outputs": [
        {
          "output_type": "stream",
          "name": "stdout",
          "text": [
            "Average longitude and latitude for Walgreen Co practices in Brooklyn NY:\n",
            " longitude   -73.956216\n",
            "latitude     40.646357\n",
            "dtype: float64\n"
          ]
        }
      ]
    },
    {
      "cell_type": "markdown",
      "metadata": {
        "id": "cF9wYuQ1j_Aa"
      },
      "source": [
        "**8. Write a function named get_mean_long_and_lat(state,city) that takes as input the pracice state and the practice city.  The function should filter the Medical Equipment Supplier DataFrame by practicestate == state and practicecity == city and return a tuple of the mean longitude and mean latitude.  Use this function to verify young answer to Question 7.**"
      ]
    },
    {
      "cell_type": "code",
      "metadata": {
        "id": "OtOFpYHFlS-g"
      },
      "source": [
        "def getmean_long_lat(state,city):\n",
        "  #Filter on the data \n",
        "  mask = (df['practicestate'] =='NY') & (df['practicecity'] == 'BROOKLYN')\n",
        "  latlong = ['practicestate', 'practicecity', 'latitude', 'longitude']\n",
        "  latlong2 = df[mask][longNlat]"
      ],
      "execution_count": 61,
      "outputs": []
    },
    {
      "cell_type": "code",
      "metadata": {
        "id": "TjEu8Hom0lCw"
      },
      "source": [
        "mask = (df['practicestate']== 'NY') & (df['practicecity'] == 'BROOKLYN')"
      ],
      "execution_count": 62,
      "outputs": []
    },
    {
      "cell_type": "code",
      "metadata": {
        "colab": {
          "base_uri": "https://localhost:8080/",
          "height": 895
        },
        "id": "M6Mm_AjT0zWJ",
        "outputId": "46d8bd9a-e1db-4510-940b-9e89813fe403"
      },
      "source": [
        "df[mask]"
      ],
      "execution_count": 63,
      "outputs": [
        {
          "output_type": "execute_result",
          "data": {
            "text/html": [
              "<div>\n",
              "<style scoped>\n",
              "    .dataframe tbody tr th:only-of-type {\n",
              "        vertical-align: middle;\n",
              "    }\n",
              "\n",
              "    .dataframe tbody tr th {\n",
              "        vertical-align: top;\n",
              "    }\n",
              "\n",
              "    .dataframe thead th {\n",
              "        text-align: right;\n",
              "    }\n",
              "</style>\n",
              "<table border=\"1\" class=\"dataframe\">\n",
              "  <thead>\n",
              "    <tr style=\"text-align: right;\">\n",
              "      <th></th>\n",
              "      <th>ptan</th>\n",
              "      <th>acceptsassignement</th>\n",
              "      <th>participationbegindate</th>\n",
              "      <th>businessname</th>\n",
              "      <th>practicename</th>\n",
              "      <th>practiceaddress1</th>\n",
              "      <th>practiceaddress2</th>\n",
              "      <th>practicecity</th>\n",
              "      <th>practicestate</th>\n",
              "      <th>practicezip9code</th>\n",
              "      <th>telephonenumber</th>\n",
              "      <th>specialitieslist</th>\n",
              "      <th>providertypelist</th>\n",
              "      <th>supplieslist</th>\n",
              "      <th>latitude</th>\n",
              "      <th>longitude</th>\n",
              "      <th>is_contracted_for_cba</th>\n",
              "      <th>SupplyCount</th>\n",
              "    </tr>\n",
              "  </thead>\n",
              "  <tbody>\n",
              "    <tr>\n",
              "      <th>8</th>\n",
              "      <td>5424080001</td>\n",
              "      <td>False</td>\n",
              "      <td>2005-04-29</td>\n",
              "      <td>WELCARE DRUG STORE INC</td>\n",
              "      <td>WELCARE PHARMACY</td>\n",
              "      <td>54 GRAHAM AVE</td>\n",
              "      <td>NaN</td>\n",
              "      <td>BROOKLYN</td>\n",
              "      <td>NY</td>\n",
              "      <td>112064066</td>\n",
              "      <td>7185997200</td>\n",
              "      <td>Pharmacy</td>\n",
              "      <td>NaN</td>\n",
              "      <td>Commodes, Urinals, Bedpans|Heat &amp; Cold Applica...</td>\n",
              "      <td>40.70271</td>\n",
              "      <td>-73.94232</td>\n",
              "      <td>True</td>\n",
              "      <td>48</td>\n",
              "    </tr>\n",
              "    <tr>\n",
              "      <th>200</th>\n",
              "      <td>7812870001</td>\n",
              "      <td>False</td>\n",
              "      <td>2020-02-17</td>\n",
              "      <td>ADL ORTHO SOLUTIONS INC</td>\n",
              "      <td>ADL ORTHO SOLUTIONS INC</td>\n",
              "      <td>279 LAKE ST</td>\n",
              "      <td>APT 1C</td>\n",
              "      <td>BROOKLYN</td>\n",
              "      <td>NY</td>\n",
              "      <td>112233870</td>\n",
              "      <td>3476738383</td>\n",
              "      <td>Medical Supply Company Other</td>\n",
              "      <td>NaN</td>\n",
              "      <td>Blood Glucose Monitors/Supplies (Non-Mail Orde...</td>\n",
              "      <td>40.59735</td>\n",
              "      <td>-73.97390</td>\n",
              "      <td>False</td>\n",
              "      <td>35</td>\n",
              "    </tr>\n",
              "    <tr>\n",
              "      <th>211</th>\n",
              "      <td>385400001</td>\n",
              "      <td>False</td>\n",
              "      <td>1998-01-01</td>\n",
              "      <td>F &amp; D PHARMACY INC.</td>\n",
              "      <td>MEDICAL ARTS CHEMISTS AND SURG</td>\n",
              "      <td>5504 13TH AVE</td>\n",
              "      <td>NaN</td>\n",
              "      <td>BROOKLYN</td>\n",
              "      <td>NY</td>\n",
              "      <td>112194515</td>\n",
              "      <td>7184366088</td>\n",
              "      <td>Certified Other|Prosthetic Personnel|Orthotic ...</td>\n",
              "      <td>OXYGEN &amp; EQUIPMENT</td>\n",
              "      <td>Immunosuppressive Drugs|Nebulizer Drugs|Oral A...</td>\n",
              "      <td>40.63144</td>\n",
              "      <td>-73.99600</td>\n",
              "      <td>True</td>\n",
              "      <td>34</td>\n",
              "    </tr>\n",
              "    <tr>\n",
              "      <th>286</th>\n",
              "      <td>505220126</td>\n",
              "      <td>True</td>\n",
              "      <td>1979-02-01</td>\n",
              "      <td>EMPIRE VISION CENTER INC.</td>\n",
              "      <td>EMPIRE VISION CENTER, INC</td>\n",
              "      <td>455 86TH ST</td>\n",
              "      <td>NaN</td>\n",
              "      <td>BROOKLYN</td>\n",
              "      <td>NY</td>\n",
              "      <td>112094707</td>\n",
              "      <td>7182383296</td>\n",
              "      <td>Optician</td>\n",
              "      <td>NaN</td>\n",
              "      <td>Prosthetic Lenses: Conventional Contact Lenses...</td>\n",
              "      <td>40.62220</td>\n",
              "      <td>-74.02719</td>\n",
              "      <td>False</td>\n",
              "      <td>3</td>\n",
              "    </tr>\n",
              "    <tr>\n",
              "      <th>304</th>\n",
              "      <td>7645700001</td>\n",
              "      <td>False</td>\n",
              "      <td>2017-12-20</td>\n",
              "      <td>M.B.DRUGS INC</td>\n",
              "      <td>M. B. DRUGS INC</td>\n",
              "      <td>222 15TH ST</td>\n",
              "      <td>NaN</td>\n",
              "      <td>BROOKLYN</td>\n",
              "      <td>NY</td>\n",
              "      <td>112158714</td>\n",
              "      <td>7187880768</td>\n",
              "      <td>Pharmacy</td>\n",
              "      <td>NaN</td>\n",
              "      <td>Immunosuppressive Drugs|Nebulizer Drugs|Oral A...</td>\n",
              "      <td>40.66536</td>\n",
              "      <td>-73.98910</td>\n",
              "      <td>False</td>\n",
              "      <td>6</td>\n",
              "    </tr>\n",
              "    <tr>\n",
              "      <th>...</th>\n",
              "      <td>...</td>\n",
              "      <td>...</td>\n",
              "      <td>...</td>\n",
              "      <td>...</td>\n",
              "      <td>...</td>\n",
              "      <td>...</td>\n",
              "      <td>...</td>\n",
              "      <td>...</td>\n",
              "      <td>...</td>\n",
              "      <td>...</td>\n",
              "      <td>...</td>\n",
              "      <td>...</td>\n",
              "      <td>...</td>\n",
              "      <td>...</td>\n",
              "      <td>...</td>\n",
              "      <td>...</td>\n",
              "      <td>...</td>\n",
              "      <td>...</td>\n",
              "    </tr>\n",
              "    <tr>\n",
              "      <th>69029</th>\n",
              "      <td>7821680001</td>\n",
              "      <td>True</td>\n",
              "      <td>2018-03-26</td>\n",
              "      <td>BORO PARK PHARMACY CORP.</td>\n",
              "      <td>BORO PARK PHARMACY CORP</td>\n",
              "      <td>5600 NEW UTRECHT AVE</td>\n",
              "      <td>NaN</td>\n",
              "      <td>BROOKLYN</td>\n",
              "      <td>NY</td>\n",
              "      <td>112194631</td>\n",
              "      <td>7184800700</td>\n",
              "      <td>Pharmacy</td>\n",
              "      <td>NaN</td>\n",
              "      <td>Immunosuppressive Drugs|Nebulizer Drugs|Oral A...</td>\n",
              "      <td>40.63043</td>\n",
              "      <td>-73.99590</td>\n",
              "      <td>False</td>\n",
              "      <td>28</td>\n",
              "    </tr>\n",
              "    <tr>\n",
              "      <th>69035</th>\n",
              "      <td>5341470001</td>\n",
              "      <td>False</td>\n",
              "      <td>2004-12-18</td>\n",
              "      <td>S &amp; E DRUGS INC</td>\n",
              "      <td>S &amp; E DRUGS INC</td>\n",
              "      <td>1202 FULTON ST</td>\n",
              "      <td>NaN</td>\n",
              "      <td>BROOKLYN</td>\n",
              "      <td>NY</td>\n",
              "      <td>112162295</td>\n",
              "      <td>7183989000</td>\n",
              "      <td>Pharmacy</td>\n",
              "      <td>NaN</td>\n",
              "      <td>Epoetin|Oral Anticancer Drugs|Blood Glucose Mo...</td>\n",
              "      <td>40.68049</td>\n",
              "      <td>-73.95264</td>\n",
              "      <td>False</td>\n",
              "      <td>7</td>\n",
              "    </tr>\n",
              "    <tr>\n",
              "      <th>69110</th>\n",
              "      <td>6635240001</td>\n",
              "      <td>False</td>\n",
              "      <td>2012-01-03</td>\n",
              "      <td>LAN MEDICAL SUPPLY INC.</td>\n",
              "      <td>LAN MEDICAL SUPPLY</td>\n",
              "      <td>6311 AVENUE N</td>\n",
              "      <td>NaN</td>\n",
              "      <td>BROOKLYN</td>\n",
              "      <td>NY</td>\n",
              "      <td>112345508</td>\n",
              "      <td>7184444265</td>\n",
              "      <td>MSC With Orthotic Personnel|Medical Supply Com...</td>\n",
              "      <td>PEDORTHIC PERSONNEL|MEDICAL SUPPLY COMPANY WIT...</td>\n",
              "      <td>(TENS) Transcutaneous Electrical Nerve Stimula...</td>\n",
              "      <td>40.61983</td>\n",
              "      <td>-73.91630</td>\n",
              "      <td>False</td>\n",
              "      <td>6</td>\n",
              "    </tr>\n",
              "    <tr>\n",
              "      <th>69138</th>\n",
              "      <td>567050001</td>\n",
              "      <td>True</td>\n",
              "      <td>1998-01-01</td>\n",
              "      <td>NICHOLAS AVE PHARMACY INC</td>\n",
              "      <td>NICHOLAS AVE PHARMACY</td>\n",
              "      <td>179 SAINT NICHOLAS AVE</td>\n",
              "      <td>NaN</td>\n",
              "      <td>BROOKLYN</td>\n",
              "      <td>NY</td>\n",
              "      <td>112374441</td>\n",
              "      <td>7184561795</td>\n",
              "      <td>Pharmacy</td>\n",
              "      <td>NaN</td>\n",
              "      <td>Nebulizer Drugs|Blood Glucose Monitors/Supplie...</td>\n",
              "      <td>40.70422</td>\n",
              "      <td>-73.91624</td>\n",
              "      <td>False</td>\n",
              "      <td>8</td>\n",
              "    </tr>\n",
              "    <tr>\n",
              "      <th>69190</th>\n",
              "      <td>6115980001</td>\n",
              "      <td>False</td>\n",
              "      <td>2008-07-11</td>\n",
              "      <td>ZOYA PHARMACY INC</td>\n",
              "      <td>ZOYA PHARMACY INC</td>\n",
              "      <td>1527 PITKIN AVE</td>\n",
              "      <td>NaN</td>\n",
              "      <td>BROOKLYN</td>\n",
              "      <td>NY</td>\n",
              "      <td>112124516</td>\n",
              "      <td>7183423911</td>\n",
              "      <td>Pharmacy|Department Store</td>\n",
              "      <td>NaN</td>\n",
              "      <td>Epoetin|Infusion Drugs|Oral Anticancer Drugs|I...</td>\n",
              "      <td>40.66901</td>\n",
              "      <td>-73.91593</td>\n",
              "      <td>False</td>\n",
              "      <td>6</td>\n",
              "    </tr>\n",
              "  </tbody>\n",
              "</table>\n",
              "<p>854 rows × 18 columns</p>\n",
              "</div>"
            ],
            "text/plain": [
              "             ptan  acceptsassignement  ... is_contracted_for_cba SupplyCount\n",
              "8      5424080001               False  ...                  True          48\n",
              "200    7812870001               False  ...                 False          35\n",
              "211     385400001               False  ...                  True          34\n",
              "286     505220126                True  ...                 False           3\n",
              "304    7645700001               False  ...                 False           6\n",
              "...           ...                 ...  ...                   ...         ...\n",
              "69029  7821680001                True  ...                 False          28\n",
              "69035  5341470001               False  ...                 False           7\n",
              "69110  6635240001               False  ...                 False           6\n",
              "69138   567050001                True  ...                 False           8\n",
              "69190  6115980001               False  ...                 False           6\n",
              "\n",
              "[854 rows x 18 columns]"
            ]
          },
          "metadata": {},
          "execution_count": 63
        }
      ]
    },
    {
      "cell_type": "code",
      "metadata": {
        "colab": {
          "base_uri": "https://localhost:8080/"
        },
        "id": "yJwR07EQ1Bkg",
        "outputId": "9c46a719-5500-4d59-f0a5-bd0af92e6dea"
      },
      "source": [
        "print(getmean_long_lat)"
      ],
      "execution_count": 64,
      "outputs": [
        {
          "output_type": "stream",
          "name": "stdout",
          "text": [
            "<function getmean_long_lat at 0x7fe172d11950>\n"
          ]
        }
      ]
    },
    {
      "cell_type": "markdown",
      "metadata": {
        "id": "dx2QBiRd1IPG"
      },
      "source": [
        ""
      ]
    },
    {
      "cell_type": "markdown",
      "metadata": {
        "id": "7vkduTUseMUM"
      },
      "source": [
        "**9. Add a column to the dataset, called supplycount that contains the number of supplies in\n",
        "the supplieslist column for each practice. Run the built-in Pandas describe function on the\n",
        "supplycount column**"
      ]
    },
    {
      "cell_type": "code",
      "metadata": {
        "id": "O70A7lUa1NCz"
      },
      "source": [
        "#fill nulls in data and create list\n",
        "df['supplieslist'] = df['supplieslist'].fillna(\"\")\n",
        "SupplyList = list(df['supplieslist'])"
      ],
      "execution_count": 65,
      "outputs": []
    },
    {
      "cell_type": "code",
      "metadata": {
        "id": "3y1fgL2u1WkQ"
      },
      "source": [
        "#split list using delimieter\n",
        "split = []\n",
        "for x in SupplyList:\n",
        "  if x == \"\":\n",
        "    split.append(0)\n",
        "  else:\n",
        "    split.append(x.split('|'))"
      ],
      "execution_count": 27,
      "outputs": []
    },
    {
      "cell_type": "code",
      "metadata": {
        "id": "Z0YzGWJA1ibo"
      },
      "source": [
        "#create list with # of supplies\n",
        "ListSupply = []\n",
        "for c in range(len(split)):\n",
        "  if split[c] == 0:\n",
        "    ListSupply.append(0)\n",
        "  else:\n",
        "    ListSupply.append(len(split[c]))"
      ],
      "execution_count": 29,
      "outputs": []
    },
    {
      "cell_type": "code",
      "metadata": {
        "id": "2U4CJRXt1nng"
      },
      "source": [
        "#add ListSupply list to dataframe\n",
        "df['SupplyCount'] = ListSupply"
      ],
      "execution_count": 30,
      "outputs": []
    },
    {
      "cell_type": "code",
      "metadata": {
        "colab": {
          "base_uri": "https://localhost:8080/"
        },
        "id": "67pywWGC1sYL",
        "outputId": "02d4e79d-5f50-40c6-86fa-6ce47d628f6d"
      },
      "source": [
        "print('Summary of stats\\n',df['SupplyCount'].describe().sort_values(ascending = True))"
      ],
      "execution_count": 68,
      "outputs": [
        {
          "output_type": "stream",
          "name": "stdout",
          "text": [
            "Summary of stats\n",
            " min          0.000000\n",
            "25%          6.000000\n",
            "std          9.487698\n",
            "50%         10.000000\n",
            "mean        12.077116\n",
            "75%         18.000000\n",
            "max         72.000000\n",
            "count    69207.000000\n",
            "Name: SupplyCount, dtype: float64\n"
          ]
        }
      ]
    },
    {
      "cell_type": "markdown",
      "metadata": {
        "id": "QiZGOfHoH3tZ"
      },
      "source": [
        "10. **Use the supplieslist column to identify if a practice offers wheelchairs and count the total number of practices that offer wheelchairs.**"
      ]
    },
    {
      "cell_type": "code",
      "metadata": {
        "id": "4_vhKreAIELy"
      },
      "source": [
        "offersWheelchairs = df[df['supplieslist'].str.contains('Wheelchairs')]"
      ],
      "execution_count": 69,
      "outputs": []
    },
    {
      "cell_type": "code",
      "metadata": {
        "id": "MrK3fmrWIHih"
      },
      "source": [
        "Practices= list(offersWheelchairs['ptan'])"
      ],
      "execution_count": 33,
      "outputs": []
    },
    {
      "cell_type": "code",
      "metadata": {
        "colab": {
          "base_uri": "https://localhost:8080/"
        },
        "id": "TBDsy4BVILrA",
        "outputId": "b969620a-de71-4e95-aa95-f9217059411e"
      },
      "source": [
        "Practices = Counter(Practices).keys()\n",
        "print('Number of practices that offer wheelchairs:', len(Practices1))"
      ],
      "execution_count": 71,
      "outputs": [
        {
          "output_type": "stream",
          "name": "stdout",
          "text": [
            "Number of practices that offer wheelchairs: 8732\n"
          ]
        }
      ]
    },
    {
      "cell_type": "code",
      "metadata": {
        "colab": {
          "base_uri": "https://localhost:8080/"
        },
        "id": "CtWAQnMPIPNl",
        "outputId": "5263377d-66a1-423e-f22b-5602dcfe4532"
      },
      "source": [
        "PracticesVar = []\n",
        "count = 0\n",
        "\n",
        "for x in Practices:\n",
        "  if x not in PracticesVar:\n",
        "    count = count + 1\n",
        "    PracticesVar.append(x)\n",
        "\n",
        "print('Practices that offer wheelchairs:', count)"
      ],
      "execution_count": 78,
      "outputs": [
        {
          "output_type": "stream",
          "name": "stdout",
          "text": [
            "Practices that offer wheelchairs: 8732\n"
          ]
        }
      ]
    },
    {
      "cell_type": "markdown",
      "metadata": {
        "id": "Rq8z1ZgwISB1"
      },
      "source": [
        "\n",
        "11. There are approximately 80 distinct supplies represented in the supplieslist colum across the entire dataset.  Find the top 5 supplies by frequency and display them along with thier corresponding frequencies. "
      ]
    },
    {
      "cell_type": "code",
      "metadata": {
        "colab": {
          "base_uri": "https://localhost:8080/"
        },
        "id": "Ro7j4iGnIi3w",
        "outputId": "e8b612c1-62a9-4bbe-9c3f-22c8c2161913"
      },
      "source": [
        "print('Top 5 supplies:\\n', Counter(SupplyList).most_common(5))"
      ],
      "execution_count": 77,
      "outputs": [
        {
          "output_type": "stream",
          "name": "stdout",
          "text": [
            "Top 5 supplies:\n",
            " [('Immunosuppressive Drugs|Nebulizer Drugs|Oral Antiemetic Drugs|Epoetin|Infusion Drugs|Oral Anticancer Drugs|Blood Glucose Monitors/Supplies (Non-Mail Order)', 3356), ('Epoetin|Infusion Drugs|Oral Anticancer Drugs|Blood Glucose Monitors/Supplies (Non-Mail Order)|Immunosuppressive Drugs|Nebulizer Drugs|Oral Antiemetic Drugs', 3356), ('Immunosuppressive Drugs|Nebulizer Drugs|Oral Antiemetic Drugs|Commodes, Urinals, Bedpans|Blood Glucose Monitors/Supplies (Mail Order)|Heat & Cold Applications|Canes and/or Crutches|Walkers|Ostomy Supplies|Enteral Nutrients|Parenteral Nutrients|Nebulizer Equipment and/or Supplies|Surgical Dressings|Oral Anticancer Drugs|Blood Glucose Monitors/Supplies (Non-Mail Order)|Urological Supplies|Enteral Equipment and/or Supplies|Parenteral Equipment and/or Supplies', 2215), ('Oral Anticancer Drugs|Blood Glucose Monitors/Supplies (Non-Mail Order)|Urological Supplies|Enteral Equipment and/or Supplies|Parenteral Equipment and/or Supplies|Immunosuppressive Drugs|Nebulizer Drugs|Oral Antiemetic Drugs|Commodes, Urinals, Bedpans|Blood Glucose Monitors/Supplies (Mail Order)|Heat & Cold Applications|Canes and/or Crutches|Walkers|Ostomy Supplies|Enteral Nutrients|Parenteral Nutrients|Nebulizer Equipment and/or Supplies|Surgical Dressings', 2178), ('Prosthetic Lenses: Conventional Eyeglasses', 1728)]\n"
          ]
        }
      ]
    },
    {
      "cell_type": "markdown",
      "metadata": {
        "id": "Hhn1mz3_IyRo"
      },
      "source": [
        "**12. Filter the dataset to all pracrtices in Brooklyn, NY and sort the resulting dataset by practicename and supplycount.  What is the ptan of the last practice in the filtered and sorted dataset?**"
      ]
    },
    {
      "cell_type": "code",
      "metadata": {
        "id": "iGzuYQsMI-qT"
      },
      "source": [
        "SupplyCountNY = df[(df['practicestate'] == 'NY') & (df['practicecity'] == 'BROOKLYN')]"
      ],
      "execution_count": 79,
      "outputs": []
    },
    {
      "cell_type": "code",
      "metadata": {
        "colab": {
          "base_uri": "https://localhost:8080/",
          "height": 790
        },
        "id": "piJt16kOJByt",
        "outputId": "b73c65a3-c56f-46d1-a111-8809721e1ae1"
      },
      "source": [
        "SupplyCountNY.sort_values(by=[\"practicename\", \"SupplyCount\"],ascending=[True, True])"
      ],
      "execution_count": 80,
      "outputs": [
        {
          "output_type": "execute_result",
          "data": {
            "text/html": [
              "<div>\n",
              "<style scoped>\n",
              "    .dataframe tbody tr th:only-of-type {\n",
              "        vertical-align: middle;\n",
              "    }\n",
              "\n",
              "    .dataframe tbody tr th {\n",
              "        vertical-align: top;\n",
              "    }\n",
              "\n",
              "    .dataframe thead th {\n",
              "        text-align: right;\n",
              "    }\n",
              "</style>\n",
              "<table border=\"1\" class=\"dataframe\">\n",
              "  <thead>\n",
              "    <tr style=\"text-align: right;\">\n",
              "      <th></th>\n",
              "      <th>ptan</th>\n",
              "      <th>acceptsassignement</th>\n",
              "      <th>participationbegindate</th>\n",
              "      <th>businessname</th>\n",
              "      <th>practicename</th>\n",
              "      <th>practiceaddress1</th>\n",
              "      <th>practiceaddress2</th>\n",
              "      <th>practicecity</th>\n",
              "      <th>practicestate</th>\n",
              "      <th>practicezip9code</th>\n",
              "      <th>telephonenumber</th>\n",
              "      <th>specialitieslist</th>\n",
              "      <th>providertypelist</th>\n",
              "      <th>supplieslist</th>\n",
              "      <th>latitude</th>\n",
              "      <th>longitude</th>\n",
              "      <th>is_contracted_for_cba</th>\n",
              "      <th>SupplyCount</th>\n",
              "    </tr>\n",
              "  </thead>\n",
              "  <tbody>\n",
              "    <tr>\n",
              "      <th>62705</th>\n",
              "      <td>5861320001</td>\n",
              "      <td>False</td>\n",
              "      <td>2007-06-06</td>\n",
              "      <td>ABC RX INC</td>\n",
              "      <td>1 STOP PHARMACY</td>\n",
              "      <td>1220 AVENUE P</td>\n",
              "      <td>NaN</td>\n",
              "      <td>BROOKLYN</td>\n",
              "      <td>NY</td>\n",
              "      <td>112291009</td>\n",
              "      <td>7183362244</td>\n",
              "      <td>Pharmacy</td>\n",
              "      <td>NaN</td>\n",
              "      <td>Immunosuppressive Drugs|Nebulizer Drugs|Oral A...</td>\n",
              "      <td>40.61006</td>\n",
              "      <td>-73.96088</td>\n",
              "      <td>False</td>\n",
              "      <td>9</td>\n",
              "    </tr>\n",
              "    <tr>\n",
              "      <th>62455</th>\n",
              "      <td>7597020001</td>\n",
              "      <td>False</td>\n",
              "      <td>2017-02-17</td>\n",
              "      <td>1325 FIFTH AVE DRUGS INC</td>\n",
              "      <td>1325 FIFTH AVE DRUGS INC</td>\n",
              "      <td>3206 MERMAID AVENUE</td>\n",
              "      <td>NaN</td>\n",
              "      <td>BROOKLYN</td>\n",
              "      <td>NY</td>\n",
              "      <td>112241810</td>\n",
              "      <td>7189964949</td>\n",
              "      <td>Pharmacy</td>\n",
              "      <td>NaN</td>\n",
              "      <td>Immunosuppressive Drugs|Nebulizer Drugs|Oral A...</td>\n",
              "      <td>40.57495</td>\n",
              "      <td>-73.99908</td>\n",
              "      <td>False</td>\n",
              "      <td>6</td>\n",
              "    </tr>\n",
              "    <tr>\n",
              "      <th>50032</th>\n",
              "      <td>6612850001</td>\n",
              "      <td>False</td>\n",
              "      <td>2011-12-19</td>\n",
              "      <td>13TH AVE PHARMACY INC.</td>\n",
              "      <td>13TH AVE PHARMACY INC.</td>\n",
              "      <td>5211 13TH AVE</td>\n",
              "      <td>NaN</td>\n",
              "      <td>BROOKLYN</td>\n",
              "      <td>NY</td>\n",
              "      <td>11219</td>\n",
              "      <td>7188719777</td>\n",
              "      <td>Pharmacy</td>\n",
              "      <td>NaN</td>\n",
              "      <td>Epoetin|Immunosuppressive Drugs|Infusion Drugs...</td>\n",
              "      <td>40.63323</td>\n",
              "      <td>-73.99383</td>\n",
              "      <td>False</td>\n",
              "      <td>6</td>\n",
              "    </tr>\n",
              "    <tr>\n",
              "      <th>24308</th>\n",
              "      <td>6337860001</td>\n",
              "      <td>False</td>\n",
              "      <td>2009-10-26</td>\n",
              "      <td>1622 VOORHIES AVE PHARMACY INC</td>\n",
              "      <td>1622 VOORHIES AVE PHARMACY INC</td>\n",
              "      <td>1622 VOORHIES AVE</td>\n",
              "      <td>NaN</td>\n",
              "      <td>BROOKLYN</td>\n",
              "      <td>NY</td>\n",
              "      <td>112353914</td>\n",
              "      <td>3474629778</td>\n",
              "      <td>Pharmacy</td>\n",
              "      <td>NaN</td>\n",
              "      <td>Epoetin|Infusion Drugs|Oral Anticancer Drugs|B...</td>\n",
              "      <td>40.58579</td>\n",
              "      <td>-73.95241</td>\n",
              "      <td>False</td>\n",
              "      <td>13</td>\n",
              "    </tr>\n",
              "    <tr>\n",
              "      <th>20456</th>\n",
              "      <td>7819180001</td>\n",
              "      <td>True</td>\n",
              "      <td>2020-06-07</td>\n",
              "      <td>16TH AVE PHARMACY LLC</td>\n",
              "      <td>16TH AVE PHARMACY LLC</td>\n",
              "      <td>4605 16TH AVE</td>\n",
              "      <td>NaN</td>\n",
              "      <td>BROOKLYN</td>\n",
              "      <td>NY</td>\n",
              "      <td>112041105</td>\n",
              "      <td>7186868000</td>\n",
              "      <td>Pharmacy</td>\n",
              "      <td>NaN</td>\n",
              "      <td>Immunosuppressive Drugs|Epoetin|Nebulizer Drug...</td>\n",
              "      <td>40.63238</td>\n",
              "      <td>-73.98397</td>\n",
              "      <td>False</td>\n",
              "      <td>6</td>\n",
              "    </tr>\n",
              "    <tr>\n",
              "      <th>...</th>\n",
              "      <td>...</td>\n",
              "      <td>...</td>\n",
              "      <td>...</td>\n",
              "      <td>...</td>\n",
              "      <td>...</td>\n",
              "      <td>...</td>\n",
              "      <td>...</td>\n",
              "      <td>...</td>\n",
              "      <td>...</td>\n",
              "      <td>...</td>\n",
              "      <td>...</td>\n",
              "      <td>...</td>\n",
              "      <td>...</td>\n",
              "      <td>...</td>\n",
              "      <td>...</td>\n",
              "      <td>...</td>\n",
              "      <td>...</td>\n",
              "      <td>...</td>\n",
              "    </tr>\n",
              "    <tr>\n",
              "      <th>40819</th>\n",
              "      <td>7557720001</td>\n",
              "      <td>False</td>\n",
              "      <td>2016-08-04</td>\n",
              "      <td>WZ PREMIUM INC</td>\n",
              "      <td>WZ PHARMACY</td>\n",
              "      <td>329A MYRTLE AVE</td>\n",
              "      <td>NaN</td>\n",
              "      <td>BROOKLYN</td>\n",
              "      <td>NY</td>\n",
              "      <td>112053201</td>\n",
              "      <td>7189380816</td>\n",
              "      <td>Pharmacy</td>\n",
              "      <td>NaN</td>\n",
              "      <td>Epoetin|Infusion Drugs|Oral Anticancer Drugs|I...</td>\n",
              "      <td>40.69337</td>\n",
              "      <td>-73.97378</td>\n",
              "      <td>False</td>\n",
              "      <td>6</td>\n",
              "    </tr>\n",
              "    <tr>\n",
              "      <th>49057</th>\n",
              "      <td>4389980001</td>\n",
              "      <td>False</td>\n",
              "      <td>2001-12-18</td>\n",
              "      <td>J AND J 26 MGT LLC</td>\n",
              "      <td>YAFIT PHARMACY</td>\n",
              "      <td>2163 E 7TH ST</td>\n",
              "      <td>NaN</td>\n",
              "      <td>BROOKLYN</td>\n",
              "      <td>NY</td>\n",
              "      <td>112234933</td>\n",
              "      <td>7189988651</td>\n",
              "      <td>Pharmacy</td>\n",
              "      <td>NaN</td>\n",
              "      <td>Epoetin|Immunosuppressive Drugs|Infusion Drugs...</td>\n",
              "      <td>40.59691</td>\n",
              "      <td>-73.96378</td>\n",
              "      <td>False</td>\n",
              "      <td>7</td>\n",
              "    </tr>\n",
              "    <tr>\n",
              "      <th>28565</th>\n",
              "      <td>6685370001</td>\n",
              "      <td>False</td>\n",
              "      <td>2012-04-20</td>\n",
              "      <td>YMD PHARMACY, INC.</td>\n",
              "      <td>YMD PHARMACY INC</td>\n",
              "      <td>519 UTICA AVE</td>\n",
              "      <td>STORE # 3</td>\n",
              "      <td>BROOKLYN</td>\n",
              "      <td>NY</td>\n",
              "      <td>112031916</td>\n",
              "      <td>7182216814</td>\n",
              "      <td>Pharmacy</td>\n",
              "      <td>NaN</td>\n",
              "      <td>Epoetin|Infusion Drugs|Oral Anticancer Drugs|I...</td>\n",
              "      <td>40.66083</td>\n",
              "      <td>-73.93123</td>\n",
              "      <td>False</td>\n",
              "      <td>6</td>\n",
              "    </tr>\n",
              "    <tr>\n",
              "      <th>43694</th>\n",
              "      <td>6624400001</td>\n",
              "      <td>False</td>\n",
              "      <td>2011-11-22</td>\n",
              "      <td>ZOURA PHARMACY INC</td>\n",
              "      <td>ZOURA PHARMACY INC.</td>\n",
              "      <td>464 AVE U</td>\n",
              "      <td>NaN</td>\n",
              "      <td>BROOKLYN</td>\n",
              "      <td>NY</td>\n",
              "      <td>11223</td>\n",
              "      <td>7186766445</td>\n",
              "      <td>Pharmacy</td>\n",
              "      <td>NaN</td>\n",
              "      <td>Immunosuppressive Drugs|Epoetin|Nebulizer Drug...</td>\n",
              "      <td>40.59755</td>\n",
              "      <td>-73.96726</td>\n",
              "      <td>False</td>\n",
              "      <td>6</td>\n",
              "    </tr>\n",
              "    <tr>\n",
              "      <th>69190</th>\n",
              "      <td>6115980001</td>\n",
              "      <td>False</td>\n",
              "      <td>2008-07-11</td>\n",
              "      <td>ZOYA PHARMACY INC</td>\n",
              "      <td>ZOYA PHARMACY INC</td>\n",
              "      <td>1527 PITKIN AVE</td>\n",
              "      <td>NaN</td>\n",
              "      <td>BROOKLYN</td>\n",
              "      <td>NY</td>\n",
              "      <td>112124516</td>\n",
              "      <td>7183423911</td>\n",
              "      <td>Pharmacy|Department Store</td>\n",
              "      <td>NaN</td>\n",
              "      <td>Epoetin|Infusion Drugs|Oral Anticancer Drugs|I...</td>\n",
              "      <td>40.66901</td>\n",
              "      <td>-73.91593</td>\n",
              "      <td>False</td>\n",
              "      <td>6</td>\n",
              "    </tr>\n",
              "  </tbody>\n",
              "</table>\n",
              "<p>854 rows × 18 columns</p>\n",
              "</div>"
            ],
            "text/plain": [
              "             ptan  acceptsassignement  ... is_contracted_for_cba SupplyCount\n",
              "62705  5861320001               False  ...                 False           9\n",
              "62455  7597020001               False  ...                 False           6\n",
              "50032  6612850001               False  ...                 False           6\n",
              "24308  6337860001               False  ...                 False          13\n",
              "20456  7819180001                True  ...                 False           6\n",
              "...           ...                 ...  ...                   ...         ...\n",
              "40819  7557720001               False  ...                 False           6\n",
              "49057  4389980001               False  ...                 False           7\n",
              "28565  6685370001               False  ...                 False           6\n",
              "43694  6624400001               False  ...                 False           6\n",
              "69190  6115980001               False  ...                 False           6\n",
              "\n",
              "[854 rows x 18 columns]"
            ]
          },
          "metadata": {},
          "execution_count": 80
        }
      ]
    },
    {
      "cell_type": "code",
      "metadata": {
        "colab": {
          "base_uri": "https://localhost:8080/"
        },
        "id": "ii9nWA1OJD2t",
        "outputId": "0ab39f5d-51bc-4e54-9ece-0e30bd5d95c3"
      },
      "source": [
        "print('The Ptan of the last practice is',SupplyCountNYFilter.iloc[-1,0] )"
      ],
      "execution_count": 81,
      "outputs": [
        {
          "output_type": "stream",
          "name": "stdout",
          "text": [
            "The Ptan of the last practice is 6115980001\n"
          ]
        }
      ]
    }
  ]
}